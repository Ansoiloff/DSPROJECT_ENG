{
  "cells": [
    {
      "cell_type": "markdown",
      "id": "b874f131-48b3-437f-b1d8-1e63f8118a35",
      "metadata": {
        "tags": [],
        "id": "b874f131-48b3-437f-b1d8-1e63f8118a35"
      },
      "source": [
        "## Описание проекта\n",
        "Оператор мобильной связи «Мегалайн» выяснил: многие клиенты пользуются архивными тарифами. Они хотят построить систему, способную проанализировать поведение клиентов и предложить пользователям новый тариф: «Смарт» или «Ультра».\n",
        "\n",
        "В вашем распоряжении данные о поведении клиентов, которые уже перешли на эти тарифы (из проекта курса «Статистический анализ данных»). Нужно построить модель для задачи классификации, которая выберет подходящий тариф. Предобработка данных не понадобится — вы её уже сделали.\n",
        "\n",
        "Постройте модель с максимально большим значением accuracy. Чтобы сдать проект успешно, нужно довести долю правильных ответов по крайней мере до 0.75. Проверьте accuracy на тестовой выборке самостоятельно."
      ]
    },
    {
      "cell_type": "markdown",
      "id": "d2053488-250a-4709-b4d6-a49fccdb9ec7",
      "metadata": {
        "id": "d2053488-250a-4709-b4d6-a49fccdb9ec7"
      },
      "source": [
        "## Инструкция по выполнению проекта\n",
        "Откройте файл с данными и изучите его. Путь к файлу: /datasets/users_behavior.csv.\n",
        "\n",
        "Разделите исходные данные на обучающую, валидационную и тестовую выборки. \\\n",
        "Исследуйте качество разных моделей, меняя гиперпараметры. Кратко напишите выводы исследования. \\\n",
        "Проверьте качество модели на тестовой выборке. \\\n",
        "Дополнительное задание: проверьте модели на вменяемость. Ничего страшного, если не получится: эти данные сложнее тех, с которыми вы работали раньше."
      ]
    },
    {
      "cell_type": "markdown",
      "id": "7acb3e5a-699f-46b8-8bdb-9b3cf3a96f7e",
      "metadata": {
        "id": "7acb3e5a-699f-46b8-8bdb-9b3cf3a96f7e"
      },
      "source": [
        "## Описание данных\n",
        "Каждый объект в наборе данных — это информация о поведении одного пользователя за месяц. Известно:\n",
        "сalls — количество звонков, \\\n",
        "minutes — суммарная длительность звонков в минутах, \\\n",
        "messages — количество sms-сообщений, \\\n",
        "mb_used — израсходованный интернет-трафик в Мб, \\\n",
        "is_ultra — каким тарифом пользовался в течение месяца («Ультра» — 1, «Смарт» — 0)."
      ]
    },
    {
      "cell_type": "markdown",
      "id": "afbada95-e892-434d-b5d3-e26d85aad2fd",
      "metadata": {
        "id": "afbada95-e892-434d-b5d3-e26d85aad2fd"
      },
      "source": [
        "Импортируем нужные нам библиотеки"
      ]
    },
    {
      "cell_type": "code",
      "execution_count": 9,
      "id": "1b09642e-8a83-42cf-b918-3d5cd01c2959",
      "metadata": {
        "tags": [],
        "id": "1b09642e-8a83-42cf-b918-3d5cd01c2959"
      },
      "outputs": [],
      "source": [
        "import pandas as pd\n",
        "import numpy as np\n",
        "import matplotlib.pyplot as plt\n",
        "import seaborn as sns\n",
        "\n",
        "from sklearn.tree import DecisionTreeClassifier\n",
        "from sklearn.tree import DecisionTreeRegressor\n",
        "from sklearn.ensemble import RandomForestRegressor\n",
        "from sklearn.ensemble import RandomForestClassifier\n",
        "from sklearn.linear_model import LogisticRegression\n",
        "from sklearn.linear_model import LinearRegression\n",
        "from sklearn.model_selection import train_test_split\n",
        "from sklearn.metrics import mean_squared_error\n",
        "from sklearn.metrics import accuracy_score\n",
        "\n",
        "from sklearn.dummy import DummyClassifier"
      ]
    },
    {
      "cell_type": "code",
      "execution_count": 10,
      "id": "30528b3f-9fa5-4553-8a18-673d54802959",
      "metadata": {
        "tags": [],
        "id": "30528b3f-9fa5-4553-8a18-673d54802959"
      },
      "outputs": [],
      "source": [
        "try:\n",
        "    df = pd.read_csv('users_behavior.csv')\n",
        "except:\n",
        "    df = pd.read_csv('https://code.s3.yandex.net/datasets/users_behavior.csv')\n"
      ]
    },
    {
      "cell_type": "markdown",
      "id": "c6562778-f7c4-4ff1-b5df-450a57c79eee",
      "metadata": {
        "id": "c6562778-f7c4-4ff1-b5df-450a57c79eee"
      },
      "source": [
        "Выведем первые 15 строк"
      ]
    },
    {
      "cell_type": "code",
      "execution_count": 11,
      "id": "be84b489-46f8-47ec-98e3-c7e3dcce7aff",
      "metadata": {
        "colab": {
          "base_uri": "https://localhost:8080/",
          "height": 520
        },
        "id": "be84b489-46f8-47ec-98e3-c7e3dcce7aff",
        "outputId": "0682a954-cff1-407e-c1e0-cf6e8eaa52be"
      },
      "outputs": [
        {
          "output_type": "execute_result",
          "data": {
            "text/plain": [
              "    calls  minutes  messages   mb_used  is_ultra\n",
              "0    40.0   311.90      83.0  19915.42         0\n",
              "1    85.0   516.75      56.0  22696.96         0\n",
              "2    77.0   467.66      86.0  21060.45         0\n",
              "3   106.0   745.53      81.0   8437.39         1\n",
              "4    66.0   418.74       1.0  14502.75         0\n",
              "5    58.0   344.56      21.0  15823.37         0\n",
              "6    57.0   431.64      20.0   3738.90         1\n",
              "7    15.0   132.40       6.0  21911.60         0\n",
              "8     7.0    43.39       3.0   2538.67         1\n",
              "9    90.0   665.41      38.0  17358.61         0\n",
              "10   82.0   560.51      20.0   9619.53         1\n",
              "11   45.0   344.32      13.0  19898.81         0\n",
              "12   51.0   437.13      61.0  21523.58         0\n",
              "13   56.0   433.07      16.0  16702.36         0\n",
              "14  108.0   587.90       0.0  14406.50         1"
            ],
            "text/html": [
              "\n",
              "  <div id=\"df-63ed7d7b-f44d-4666-9dea-e67a46f36178\" class=\"colab-df-container\">\n",
              "    <div>\n",
              "<style scoped>\n",
              "    .dataframe tbody tr th:only-of-type {\n",
              "        vertical-align: middle;\n",
              "    }\n",
              "\n",
              "    .dataframe tbody tr th {\n",
              "        vertical-align: top;\n",
              "    }\n",
              "\n",
              "    .dataframe thead th {\n",
              "        text-align: right;\n",
              "    }\n",
              "</style>\n",
              "<table border=\"1\" class=\"dataframe\">\n",
              "  <thead>\n",
              "    <tr style=\"text-align: right;\">\n",
              "      <th></th>\n",
              "      <th>calls</th>\n",
              "      <th>minutes</th>\n",
              "      <th>messages</th>\n",
              "      <th>mb_used</th>\n",
              "      <th>is_ultra</th>\n",
              "    </tr>\n",
              "  </thead>\n",
              "  <tbody>\n",
              "    <tr>\n",
              "      <th>0</th>\n",
              "      <td>40.0</td>\n",
              "      <td>311.90</td>\n",
              "      <td>83.0</td>\n",
              "      <td>19915.42</td>\n",
              "      <td>0</td>\n",
              "    </tr>\n",
              "    <tr>\n",
              "      <th>1</th>\n",
              "      <td>85.0</td>\n",
              "      <td>516.75</td>\n",
              "      <td>56.0</td>\n",
              "      <td>22696.96</td>\n",
              "      <td>0</td>\n",
              "    </tr>\n",
              "    <tr>\n",
              "      <th>2</th>\n",
              "      <td>77.0</td>\n",
              "      <td>467.66</td>\n",
              "      <td>86.0</td>\n",
              "      <td>21060.45</td>\n",
              "      <td>0</td>\n",
              "    </tr>\n",
              "    <tr>\n",
              "      <th>3</th>\n",
              "      <td>106.0</td>\n",
              "      <td>745.53</td>\n",
              "      <td>81.0</td>\n",
              "      <td>8437.39</td>\n",
              "      <td>1</td>\n",
              "    </tr>\n",
              "    <tr>\n",
              "      <th>4</th>\n",
              "      <td>66.0</td>\n",
              "      <td>418.74</td>\n",
              "      <td>1.0</td>\n",
              "      <td>14502.75</td>\n",
              "      <td>0</td>\n",
              "    </tr>\n",
              "    <tr>\n",
              "      <th>5</th>\n",
              "      <td>58.0</td>\n",
              "      <td>344.56</td>\n",
              "      <td>21.0</td>\n",
              "      <td>15823.37</td>\n",
              "      <td>0</td>\n",
              "    </tr>\n",
              "    <tr>\n",
              "      <th>6</th>\n",
              "      <td>57.0</td>\n",
              "      <td>431.64</td>\n",
              "      <td>20.0</td>\n",
              "      <td>3738.90</td>\n",
              "      <td>1</td>\n",
              "    </tr>\n",
              "    <tr>\n",
              "      <th>7</th>\n",
              "      <td>15.0</td>\n",
              "      <td>132.40</td>\n",
              "      <td>6.0</td>\n",
              "      <td>21911.60</td>\n",
              "      <td>0</td>\n",
              "    </tr>\n",
              "    <tr>\n",
              "      <th>8</th>\n",
              "      <td>7.0</td>\n",
              "      <td>43.39</td>\n",
              "      <td>3.0</td>\n",
              "      <td>2538.67</td>\n",
              "      <td>1</td>\n",
              "    </tr>\n",
              "    <tr>\n",
              "      <th>9</th>\n",
              "      <td>90.0</td>\n",
              "      <td>665.41</td>\n",
              "      <td>38.0</td>\n",
              "      <td>17358.61</td>\n",
              "      <td>0</td>\n",
              "    </tr>\n",
              "    <tr>\n",
              "      <th>10</th>\n",
              "      <td>82.0</td>\n",
              "      <td>560.51</td>\n",
              "      <td>20.0</td>\n",
              "      <td>9619.53</td>\n",
              "      <td>1</td>\n",
              "    </tr>\n",
              "    <tr>\n",
              "      <th>11</th>\n",
              "      <td>45.0</td>\n",
              "      <td>344.32</td>\n",
              "      <td>13.0</td>\n",
              "      <td>19898.81</td>\n",
              "      <td>0</td>\n",
              "    </tr>\n",
              "    <tr>\n",
              "      <th>12</th>\n",
              "      <td>51.0</td>\n",
              "      <td>437.13</td>\n",
              "      <td>61.0</td>\n",
              "      <td>21523.58</td>\n",
              "      <td>0</td>\n",
              "    </tr>\n",
              "    <tr>\n",
              "      <th>13</th>\n",
              "      <td>56.0</td>\n",
              "      <td>433.07</td>\n",
              "      <td>16.0</td>\n",
              "      <td>16702.36</td>\n",
              "      <td>0</td>\n",
              "    </tr>\n",
              "    <tr>\n",
              "      <th>14</th>\n",
              "      <td>108.0</td>\n",
              "      <td>587.90</td>\n",
              "      <td>0.0</td>\n",
              "      <td>14406.50</td>\n",
              "      <td>1</td>\n",
              "    </tr>\n",
              "  </tbody>\n",
              "</table>\n",
              "</div>\n",
              "    <div class=\"colab-df-buttons\">\n",
              "\n",
              "  <div class=\"colab-df-container\">\n",
              "    <button class=\"colab-df-convert\" onclick=\"convertToInteractive('df-63ed7d7b-f44d-4666-9dea-e67a46f36178')\"\n",
              "            title=\"Convert this dataframe to an interactive table.\"\n",
              "            style=\"display:none;\">\n",
              "\n",
              "  <svg xmlns=\"http://www.w3.org/2000/svg\" height=\"24px\" viewBox=\"0 -960 960 960\">\n",
              "    <path d=\"M120-120v-720h720v720H120Zm60-500h600v-160H180v160Zm220 220h160v-160H400v160Zm0 220h160v-160H400v160ZM180-400h160v-160H180v160Zm440 0h160v-160H620v160ZM180-180h160v-160H180v160Zm440 0h160v-160H620v160Z\"/>\n",
              "  </svg>\n",
              "    </button>\n",
              "\n",
              "  <style>\n",
              "    .colab-df-container {\n",
              "      display:flex;\n",
              "      gap: 12px;\n",
              "    }\n",
              "\n",
              "    .colab-df-convert {\n",
              "      background-color: #E8F0FE;\n",
              "      border: none;\n",
              "      border-radius: 50%;\n",
              "      cursor: pointer;\n",
              "      display: none;\n",
              "      fill: #1967D2;\n",
              "      height: 32px;\n",
              "      padding: 0 0 0 0;\n",
              "      width: 32px;\n",
              "    }\n",
              "\n",
              "    .colab-df-convert:hover {\n",
              "      background-color: #E2EBFA;\n",
              "      box-shadow: 0px 1px 2px rgba(60, 64, 67, 0.3), 0px 1px 3px 1px rgba(60, 64, 67, 0.15);\n",
              "      fill: #174EA6;\n",
              "    }\n",
              "\n",
              "    .colab-df-buttons div {\n",
              "      margin-bottom: 4px;\n",
              "    }\n",
              "\n",
              "    [theme=dark] .colab-df-convert {\n",
              "      background-color: #3B4455;\n",
              "      fill: #D2E3FC;\n",
              "    }\n",
              "\n",
              "    [theme=dark] .colab-df-convert:hover {\n",
              "      background-color: #434B5C;\n",
              "      box-shadow: 0px 1px 3px 1px rgba(0, 0, 0, 0.15);\n",
              "      filter: drop-shadow(0px 1px 2px rgba(0, 0, 0, 0.3));\n",
              "      fill: #FFFFFF;\n",
              "    }\n",
              "  </style>\n",
              "\n",
              "    <script>\n",
              "      const buttonEl =\n",
              "        document.querySelector('#df-63ed7d7b-f44d-4666-9dea-e67a46f36178 button.colab-df-convert');\n",
              "      buttonEl.style.display =\n",
              "        google.colab.kernel.accessAllowed ? 'block' : 'none';\n",
              "\n",
              "      async function convertToInteractive(key) {\n",
              "        const element = document.querySelector('#df-63ed7d7b-f44d-4666-9dea-e67a46f36178');\n",
              "        const dataTable =\n",
              "          await google.colab.kernel.invokeFunction('convertToInteractive',\n",
              "                                                    [key], {});\n",
              "        if (!dataTable) return;\n",
              "\n",
              "        const docLinkHtml = 'Like what you see? Visit the ' +\n",
              "          '<a target=\"_blank\" href=https://colab.research.google.com/notebooks/data_table.ipynb>data table notebook</a>'\n",
              "          + ' to learn more about interactive tables.';\n",
              "        element.innerHTML = '';\n",
              "        dataTable['output_type'] = 'display_data';\n",
              "        await google.colab.output.renderOutput(dataTable, element);\n",
              "        const docLink = document.createElement('div');\n",
              "        docLink.innerHTML = docLinkHtml;\n",
              "        element.appendChild(docLink);\n",
              "      }\n",
              "    </script>\n",
              "  </div>\n",
              "\n",
              "\n",
              "<div id=\"df-db496ed2-a3f9-4f44-8482-19bbadda5932\">\n",
              "  <button class=\"colab-df-quickchart\" onclick=\"quickchart('df-db496ed2-a3f9-4f44-8482-19bbadda5932')\"\n",
              "            title=\"Suggest charts\"\n",
              "            style=\"display:none;\">\n",
              "\n",
              "<svg xmlns=\"http://www.w3.org/2000/svg\" height=\"24px\"viewBox=\"0 0 24 24\"\n",
              "     width=\"24px\">\n",
              "    <g>\n",
              "        <path d=\"M19 3H5c-1.1 0-2 .9-2 2v14c0 1.1.9 2 2 2h14c1.1 0 2-.9 2-2V5c0-1.1-.9-2-2-2zM9 17H7v-7h2v7zm4 0h-2V7h2v10zm4 0h-2v-4h2v4z\"/>\n",
              "    </g>\n",
              "</svg>\n",
              "  </button>\n",
              "\n",
              "<style>\n",
              "  .colab-df-quickchart {\n",
              "      --bg-color: #E8F0FE;\n",
              "      --fill-color: #1967D2;\n",
              "      --hover-bg-color: #E2EBFA;\n",
              "      --hover-fill-color: #174EA6;\n",
              "      --disabled-fill-color: #AAA;\n",
              "      --disabled-bg-color: #DDD;\n",
              "  }\n",
              "\n",
              "  [theme=dark] .colab-df-quickchart {\n",
              "      --bg-color: #3B4455;\n",
              "      --fill-color: #D2E3FC;\n",
              "      --hover-bg-color: #434B5C;\n",
              "      --hover-fill-color: #FFFFFF;\n",
              "      --disabled-bg-color: #3B4455;\n",
              "      --disabled-fill-color: #666;\n",
              "  }\n",
              "\n",
              "  .colab-df-quickchart {\n",
              "    background-color: var(--bg-color);\n",
              "    border: none;\n",
              "    border-radius: 50%;\n",
              "    cursor: pointer;\n",
              "    display: none;\n",
              "    fill: var(--fill-color);\n",
              "    height: 32px;\n",
              "    padding: 0;\n",
              "    width: 32px;\n",
              "  }\n",
              "\n",
              "  .colab-df-quickchart:hover {\n",
              "    background-color: var(--hover-bg-color);\n",
              "    box-shadow: 0 1px 2px rgba(60, 64, 67, 0.3), 0 1px 3px 1px rgba(60, 64, 67, 0.15);\n",
              "    fill: var(--button-hover-fill-color);\n",
              "  }\n",
              "\n",
              "  .colab-df-quickchart-complete:disabled,\n",
              "  .colab-df-quickchart-complete:disabled:hover {\n",
              "    background-color: var(--disabled-bg-color);\n",
              "    fill: var(--disabled-fill-color);\n",
              "    box-shadow: none;\n",
              "  }\n",
              "\n",
              "  .colab-df-spinner {\n",
              "    border: 2px solid var(--fill-color);\n",
              "    border-color: transparent;\n",
              "    border-bottom-color: var(--fill-color);\n",
              "    animation:\n",
              "      spin 1s steps(1) infinite;\n",
              "  }\n",
              "\n",
              "  @keyframes spin {\n",
              "    0% {\n",
              "      border-color: transparent;\n",
              "      border-bottom-color: var(--fill-color);\n",
              "      border-left-color: var(--fill-color);\n",
              "    }\n",
              "    20% {\n",
              "      border-color: transparent;\n",
              "      border-left-color: var(--fill-color);\n",
              "      border-top-color: var(--fill-color);\n",
              "    }\n",
              "    30% {\n",
              "      border-color: transparent;\n",
              "      border-left-color: var(--fill-color);\n",
              "      border-top-color: var(--fill-color);\n",
              "      border-right-color: var(--fill-color);\n",
              "    }\n",
              "    40% {\n",
              "      border-color: transparent;\n",
              "      border-right-color: var(--fill-color);\n",
              "      border-top-color: var(--fill-color);\n",
              "    }\n",
              "    60% {\n",
              "      border-color: transparent;\n",
              "      border-right-color: var(--fill-color);\n",
              "    }\n",
              "    80% {\n",
              "      border-color: transparent;\n",
              "      border-right-color: var(--fill-color);\n",
              "      border-bottom-color: var(--fill-color);\n",
              "    }\n",
              "    90% {\n",
              "      border-color: transparent;\n",
              "      border-bottom-color: var(--fill-color);\n",
              "    }\n",
              "  }\n",
              "</style>\n",
              "\n",
              "  <script>\n",
              "    async function quickchart(key) {\n",
              "      const quickchartButtonEl =\n",
              "        document.querySelector('#' + key + ' button');\n",
              "      quickchartButtonEl.disabled = true;  // To prevent multiple clicks.\n",
              "      quickchartButtonEl.classList.add('colab-df-spinner');\n",
              "      try {\n",
              "        const charts = await google.colab.kernel.invokeFunction(\n",
              "            'suggestCharts', [key], {});\n",
              "      } catch (error) {\n",
              "        console.error('Error during call to suggestCharts:', error);\n",
              "      }\n",
              "      quickchartButtonEl.classList.remove('colab-df-spinner');\n",
              "      quickchartButtonEl.classList.add('colab-df-quickchart-complete');\n",
              "    }\n",
              "    (() => {\n",
              "      let quickchartButtonEl =\n",
              "        document.querySelector('#df-db496ed2-a3f9-4f44-8482-19bbadda5932 button');\n",
              "      quickchartButtonEl.style.display =\n",
              "        google.colab.kernel.accessAllowed ? 'block' : 'none';\n",
              "    })();\n",
              "  </script>\n",
              "</div>\n",
              "    </div>\n",
              "  </div>\n"
            ],
            "application/vnd.google.colaboratory.intrinsic+json": {
              "type": "dataframe",
              "variable_name": "df",
              "summary": "{\n  \"name\": \"df\",\n  \"rows\": 3214,\n  \"fields\": [\n    {\n      \"column\": \"calls\",\n      \"properties\": {\n        \"dtype\": \"number\",\n        \"std\": 33.2363675474435,\n        \"min\": 0.0,\n        \"max\": 244.0,\n        \"num_unique_values\": 184,\n        \"samples\": [\n          49.0,\n          124.0,\n          157.0\n        ],\n        \"semantic_type\": \"\",\n        \"description\": \"\"\n      }\n    },\n    {\n      \"column\": \"minutes\",\n      \"properties\": {\n        \"dtype\": \"number\",\n        \"std\": 234.5698721733563,\n        \"min\": 0.0,\n        \"max\": 1632.0600000000004,\n        \"num_unique_values\": 3144,\n        \"samples\": [\n          277.24999999999994,\n          565.14,\n          604.3900000000001\n        ],\n        \"semantic_type\": \"\",\n        \"description\": \"\"\n      }\n    },\n    {\n      \"column\": \"messages\",\n      \"properties\": {\n        \"dtype\": \"number\",\n        \"std\": 36.14832557358982,\n        \"min\": 0.0,\n        \"max\": 224.0,\n        \"num_unique_values\": 180,\n        \"samples\": [\n          19.0,\n          46.0,\n          157.0\n        ],\n        \"semantic_type\": \"\",\n        \"description\": \"\"\n      }\n    },\n    {\n      \"column\": \"mb_used\",\n      \"properties\": {\n        \"dtype\": \"number\",\n        \"std\": 7570.968246251093,\n        \"min\": 0.0,\n        \"max\": 49745.73000000001,\n        \"num_unique_values\": 3203,\n        \"samples\": [\n          20974.219999999998,\n          19427.620000000003,\n          15080.13\n        ],\n        \"semantic_type\": \"\",\n        \"description\": \"\"\n      }\n    },\n    {\n      \"column\": \"is_ultra\",\n      \"properties\": {\n        \"dtype\": \"number\",\n        \"std\": 0,\n        \"min\": 0,\n        \"max\": 1,\n        \"num_unique_values\": 2,\n        \"samples\": [\n          1,\n          0\n        ],\n        \"semantic_type\": \"\",\n        \"description\": \"\"\n      }\n    }\n  ]\n}"
            }
          },
          "metadata": {},
          "execution_count": 11
        }
      ],
      "source": [
        "df.head(15)"
      ]
    },
    {
      "cell_type": "code",
      "execution_count": 12,
      "id": "5676d37a-9b23-4c0d-a847-2b235b7c5f3c",
      "metadata": {
        "colab": {
          "base_uri": "https://localhost:8080/"
        },
        "id": "5676d37a-9b23-4c0d-a847-2b235b7c5f3c",
        "outputId": "4db95298-8e2c-4492-fc16-09d570c3a826"
      },
      "outputs": [
        {
          "output_type": "stream",
          "name": "stdout",
          "text": [
            "<class 'pandas.core.frame.DataFrame'>\n",
            "RangeIndex: 3214 entries, 0 to 3213\n",
            "Data columns (total 5 columns):\n",
            " #   Column    Non-Null Count  Dtype  \n",
            "---  ------    --------------  -----  \n",
            " 0   calls     3214 non-null   float64\n",
            " 1   minutes   3214 non-null   float64\n",
            " 2   messages  3214 non-null   float64\n",
            " 3   mb_used   3214 non-null   float64\n",
            " 4   is_ultra  3214 non-null   int64  \n",
            "dtypes: float64(4), int64(1)\n",
            "memory usage: 125.7 KB\n"
          ]
        }
      ],
      "source": [
        "df.info()"
      ]
    },
    {
      "cell_type": "code",
      "execution_count": 13,
      "id": "f7fdada9-0674-4ab9-8d10-114d8b5c7949",
      "metadata": {
        "colab": {
          "base_uri": "https://localhost:8080/"
        },
        "id": "f7fdada9-0674-4ab9-8d10-114d8b5c7949",
        "outputId": "6c89feec-f89a-487b-95dc-3a0a120fd325"
      },
      "outputs": [
        {
          "output_type": "execute_result",
          "data": {
            "text/plain": [
              "calls       0\n",
              "minutes     0\n",
              "messages    0\n",
              "mb_used     0\n",
              "is_ultra    0\n",
              "dtype: int64"
            ]
          },
          "metadata": {},
          "execution_count": 13
        }
      ],
      "source": [
        "# Пропусков нет\n",
        "df.isna().sum()"
      ]
    },
    {
      "cell_type": "code",
      "execution_count": 14,
      "id": "c0fe9594-5eff-4154-96fc-7bf0d45e8a69",
      "metadata": {
        "colab": {
          "base_uri": "https://localhost:8080/"
        },
        "id": "c0fe9594-5eff-4154-96fc-7bf0d45e8a69",
        "outputId": "77f3667b-f7b6-4d75-b962-aa260b71b3e5"
      },
      "outputs": [
        {
          "output_type": "execute_result",
          "data": {
            "text/plain": [
              "0"
            ]
          },
          "metadata": {},
          "execution_count": 14
        }
      ],
      "source": [
        "# Дубликатов нет\n",
        "df.duplicated().sum()"
      ]
    },
    {
      "cell_type": "code",
      "execution_count": 15,
      "id": "7207ade6-b665-4ede-b69f-467086f94f88",
      "metadata": {
        "colab": {
          "base_uri": "https://localhost:8080/",
          "height": 206
        },
        "id": "7207ade6-b665-4ede-b69f-467086f94f88",
        "outputId": "d870214a-cfb2-4ade-f2c7-9b7b91857de6"
      },
      "outputs": [
        {
          "output_type": "execute_result",
          "data": {
            "text/plain": [
              "             calls   minutes  messages   mb_used  is_ultra\n",
              "calls     1.000000  0.982083  0.177385  0.286442  0.207122\n",
              "minutes   0.982083  1.000000  0.173110  0.280967  0.206955\n",
              "messages  0.177385  0.173110  1.000000  0.195721  0.203830\n",
              "mb_used   0.286442  0.280967  0.195721  1.000000  0.198568\n",
              "is_ultra  0.207122  0.206955  0.203830  0.198568  1.000000"
            ],
            "text/html": [
              "\n",
              "  <div id=\"df-bab472e4-5d0a-48e5-b1b6-467dc75429e2\" class=\"colab-df-container\">\n",
              "    <div>\n",
              "<style scoped>\n",
              "    .dataframe tbody tr th:only-of-type {\n",
              "        vertical-align: middle;\n",
              "    }\n",
              "\n",
              "    .dataframe tbody tr th {\n",
              "        vertical-align: top;\n",
              "    }\n",
              "\n",
              "    .dataframe thead th {\n",
              "        text-align: right;\n",
              "    }\n",
              "</style>\n",
              "<table border=\"1\" class=\"dataframe\">\n",
              "  <thead>\n",
              "    <tr style=\"text-align: right;\">\n",
              "      <th></th>\n",
              "      <th>calls</th>\n",
              "      <th>minutes</th>\n",
              "      <th>messages</th>\n",
              "      <th>mb_used</th>\n",
              "      <th>is_ultra</th>\n",
              "    </tr>\n",
              "  </thead>\n",
              "  <tbody>\n",
              "    <tr>\n",
              "      <th>calls</th>\n",
              "      <td>1.000000</td>\n",
              "      <td>0.982083</td>\n",
              "      <td>0.177385</td>\n",
              "      <td>0.286442</td>\n",
              "      <td>0.207122</td>\n",
              "    </tr>\n",
              "    <tr>\n",
              "      <th>minutes</th>\n",
              "      <td>0.982083</td>\n",
              "      <td>1.000000</td>\n",
              "      <td>0.173110</td>\n",
              "      <td>0.280967</td>\n",
              "      <td>0.206955</td>\n",
              "    </tr>\n",
              "    <tr>\n",
              "      <th>messages</th>\n",
              "      <td>0.177385</td>\n",
              "      <td>0.173110</td>\n",
              "      <td>1.000000</td>\n",
              "      <td>0.195721</td>\n",
              "      <td>0.203830</td>\n",
              "    </tr>\n",
              "    <tr>\n",
              "      <th>mb_used</th>\n",
              "      <td>0.286442</td>\n",
              "      <td>0.280967</td>\n",
              "      <td>0.195721</td>\n",
              "      <td>1.000000</td>\n",
              "      <td>0.198568</td>\n",
              "    </tr>\n",
              "    <tr>\n",
              "      <th>is_ultra</th>\n",
              "      <td>0.207122</td>\n",
              "      <td>0.206955</td>\n",
              "      <td>0.203830</td>\n",
              "      <td>0.198568</td>\n",
              "      <td>1.000000</td>\n",
              "    </tr>\n",
              "  </tbody>\n",
              "</table>\n",
              "</div>\n",
              "    <div class=\"colab-df-buttons\">\n",
              "\n",
              "  <div class=\"colab-df-container\">\n",
              "    <button class=\"colab-df-convert\" onclick=\"convertToInteractive('df-bab472e4-5d0a-48e5-b1b6-467dc75429e2')\"\n",
              "            title=\"Convert this dataframe to an interactive table.\"\n",
              "            style=\"display:none;\">\n",
              "\n",
              "  <svg xmlns=\"http://www.w3.org/2000/svg\" height=\"24px\" viewBox=\"0 -960 960 960\">\n",
              "    <path d=\"M120-120v-720h720v720H120Zm60-500h600v-160H180v160Zm220 220h160v-160H400v160Zm0 220h160v-160H400v160ZM180-400h160v-160H180v160Zm440 0h160v-160H620v160ZM180-180h160v-160H180v160Zm440 0h160v-160H620v160Z\"/>\n",
              "  </svg>\n",
              "    </button>\n",
              "\n",
              "  <style>\n",
              "    .colab-df-container {\n",
              "      display:flex;\n",
              "      gap: 12px;\n",
              "    }\n",
              "\n",
              "    .colab-df-convert {\n",
              "      background-color: #E8F0FE;\n",
              "      border: none;\n",
              "      border-radius: 50%;\n",
              "      cursor: pointer;\n",
              "      display: none;\n",
              "      fill: #1967D2;\n",
              "      height: 32px;\n",
              "      padding: 0 0 0 0;\n",
              "      width: 32px;\n",
              "    }\n",
              "\n",
              "    .colab-df-convert:hover {\n",
              "      background-color: #E2EBFA;\n",
              "      box-shadow: 0px 1px 2px rgba(60, 64, 67, 0.3), 0px 1px 3px 1px rgba(60, 64, 67, 0.15);\n",
              "      fill: #174EA6;\n",
              "    }\n",
              "\n",
              "    .colab-df-buttons div {\n",
              "      margin-bottom: 4px;\n",
              "    }\n",
              "\n",
              "    [theme=dark] .colab-df-convert {\n",
              "      background-color: #3B4455;\n",
              "      fill: #D2E3FC;\n",
              "    }\n",
              "\n",
              "    [theme=dark] .colab-df-convert:hover {\n",
              "      background-color: #434B5C;\n",
              "      box-shadow: 0px 1px 3px 1px rgba(0, 0, 0, 0.15);\n",
              "      filter: drop-shadow(0px 1px 2px rgba(0, 0, 0, 0.3));\n",
              "      fill: #FFFFFF;\n",
              "    }\n",
              "  </style>\n",
              "\n",
              "    <script>\n",
              "      const buttonEl =\n",
              "        document.querySelector('#df-bab472e4-5d0a-48e5-b1b6-467dc75429e2 button.colab-df-convert');\n",
              "      buttonEl.style.display =\n",
              "        google.colab.kernel.accessAllowed ? 'block' : 'none';\n",
              "\n",
              "      async function convertToInteractive(key) {\n",
              "        const element = document.querySelector('#df-bab472e4-5d0a-48e5-b1b6-467dc75429e2');\n",
              "        const dataTable =\n",
              "          await google.colab.kernel.invokeFunction('convertToInteractive',\n",
              "                                                    [key], {});\n",
              "        if (!dataTable) return;\n",
              "\n",
              "        const docLinkHtml = 'Like what you see? Visit the ' +\n",
              "          '<a target=\"_blank\" href=https://colab.research.google.com/notebooks/data_table.ipynb>data table notebook</a>'\n",
              "          + ' to learn more about interactive tables.';\n",
              "        element.innerHTML = '';\n",
              "        dataTable['output_type'] = 'display_data';\n",
              "        await google.colab.output.renderOutput(dataTable, element);\n",
              "        const docLink = document.createElement('div');\n",
              "        docLink.innerHTML = docLinkHtml;\n",
              "        element.appendChild(docLink);\n",
              "      }\n",
              "    </script>\n",
              "  </div>\n",
              "\n",
              "\n",
              "<div id=\"df-4eb98bf6-d40d-4945-b2a0-b571156ae403\">\n",
              "  <button class=\"colab-df-quickchart\" onclick=\"quickchart('df-4eb98bf6-d40d-4945-b2a0-b571156ae403')\"\n",
              "            title=\"Suggest charts\"\n",
              "            style=\"display:none;\">\n",
              "\n",
              "<svg xmlns=\"http://www.w3.org/2000/svg\" height=\"24px\"viewBox=\"0 0 24 24\"\n",
              "     width=\"24px\">\n",
              "    <g>\n",
              "        <path d=\"M19 3H5c-1.1 0-2 .9-2 2v14c0 1.1.9 2 2 2h14c1.1 0 2-.9 2-2V5c0-1.1-.9-2-2-2zM9 17H7v-7h2v7zm4 0h-2V7h2v10zm4 0h-2v-4h2v4z\"/>\n",
              "    </g>\n",
              "</svg>\n",
              "  </button>\n",
              "\n",
              "<style>\n",
              "  .colab-df-quickchart {\n",
              "      --bg-color: #E8F0FE;\n",
              "      --fill-color: #1967D2;\n",
              "      --hover-bg-color: #E2EBFA;\n",
              "      --hover-fill-color: #174EA6;\n",
              "      --disabled-fill-color: #AAA;\n",
              "      --disabled-bg-color: #DDD;\n",
              "  }\n",
              "\n",
              "  [theme=dark] .colab-df-quickchart {\n",
              "      --bg-color: #3B4455;\n",
              "      --fill-color: #D2E3FC;\n",
              "      --hover-bg-color: #434B5C;\n",
              "      --hover-fill-color: #FFFFFF;\n",
              "      --disabled-bg-color: #3B4455;\n",
              "      --disabled-fill-color: #666;\n",
              "  }\n",
              "\n",
              "  .colab-df-quickchart {\n",
              "    background-color: var(--bg-color);\n",
              "    border: none;\n",
              "    border-radius: 50%;\n",
              "    cursor: pointer;\n",
              "    display: none;\n",
              "    fill: var(--fill-color);\n",
              "    height: 32px;\n",
              "    padding: 0;\n",
              "    width: 32px;\n",
              "  }\n",
              "\n",
              "  .colab-df-quickchart:hover {\n",
              "    background-color: var(--hover-bg-color);\n",
              "    box-shadow: 0 1px 2px rgba(60, 64, 67, 0.3), 0 1px 3px 1px rgba(60, 64, 67, 0.15);\n",
              "    fill: var(--button-hover-fill-color);\n",
              "  }\n",
              "\n",
              "  .colab-df-quickchart-complete:disabled,\n",
              "  .colab-df-quickchart-complete:disabled:hover {\n",
              "    background-color: var(--disabled-bg-color);\n",
              "    fill: var(--disabled-fill-color);\n",
              "    box-shadow: none;\n",
              "  }\n",
              "\n",
              "  .colab-df-spinner {\n",
              "    border: 2px solid var(--fill-color);\n",
              "    border-color: transparent;\n",
              "    border-bottom-color: var(--fill-color);\n",
              "    animation:\n",
              "      spin 1s steps(1) infinite;\n",
              "  }\n",
              "\n",
              "  @keyframes spin {\n",
              "    0% {\n",
              "      border-color: transparent;\n",
              "      border-bottom-color: var(--fill-color);\n",
              "      border-left-color: var(--fill-color);\n",
              "    }\n",
              "    20% {\n",
              "      border-color: transparent;\n",
              "      border-left-color: var(--fill-color);\n",
              "      border-top-color: var(--fill-color);\n",
              "    }\n",
              "    30% {\n",
              "      border-color: transparent;\n",
              "      border-left-color: var(--fill-color);\n",
              "      border-top-color: var(--fill-color);\n",
              "      border-right-color: var(--fill-color);\n",
              "    }\n",
              "    40% {\n",
              "      border-color: transparent;\n",
              "      border-right-color: var(--fill-color);\n",
              "      border-top-color: var(--fill-color);\n",
              "    }\n",
              "    60% {\n",
              "      border-color: transparent;\n",
              "      border-right-color: var(--fill-color);\n",
              "    }\n",
              "    80% {\n",
              "      border-color: transparent;\n",
              "      border-right-color: var(--fill-color);\n",
              "      border-bottom-color: var(--fill-color);\n",
              "    }\n",
              "    90% {\n",
              "      border-color: transparent;\n",
              "      border-bottom-color: var(--fill-color);\n",
              "    }\n",
              "  }\n",
              "</style>\n",
              "\n",
              "  <script>\n",
              "    async function quickchart(key) {\n",
              "      const quickchartButtonEl =\n",
              "        document.querySelector('#' + key + ' button');\n",
              "      quickchartButtonEl.disabled = true;  // To prevent multiple clicks.\n",
              "      quickchartButtonEl.classList.add('colab-df-spinner');\n",
              "      try {\n",
              "        const charts = await google.colab.kernel.invokeFunction(\n",
              "            'suggestCharts', [key], {});\n",
              "      } catch (error) {\n",
              "        console.error('Error during call to suggestCharts:', error);\n",
              "      }\n",
              "      quickchartButtonEl.classList.remove('colab-df-spinner');\n",
              "      quickchartButtonEl.classList.add('colab-df-quickchart-complete');\n",
              "    }\n",
              "    (() => {\n",
              "      let quickchartButtonEl =\n",
              "        document.querySelector('#df-4eb98bf6-d40d-4945-b2a0-b571156ae403 button');\n",
              "      quickchartButtonEl.style.display =\n",
              "        google.colab.kernel.accessAllowed ? 'block' : 'none';\n",
              "    })();\n",
              "  </script>\n",
              "</div>\n",
              "    </div>\n",
              "  </div>\n"
            ],
            "application/vnd.google.colaboratory.intrinsic+json": {
              "type": "dataframe",
              "summary": "{\n  \"name\": \"df\",\n  \"rows\": 5,\n  \"fields\": [\n    {\n      \"column\": \"calls\",\n      \"properties\": {\n        \"dtype\": \"number\",\n        \"std\": 0.42225179971224264,\n        \"min\": 0.1773845012176953,\n        \"max\": 1.0,\n        \"num_unique_values\": 5,\n        \"samples\": [\n          0.9820832355742303,\n          0.20712155898607554,\n          0.1773845012176953\n        ],\n        \"semantic_type\": \"\",\n        \"description\": \"\"\n      }\n    },\n    {\n      \"column\": \"minutes\",\n      \"properties\": {\n        \"dtype\": \"number\",\n        \"std\": 0.4239740132100046,\n        \"min\": 0.17311022580969093,\n        \"max\": 1.0,\n        \"num_unique_values\": 5,\n        \"samples\": [\n          1.0,\n          0.20695463812169465,\n          0.17311022580969093\n        ],\n        \"semantic_type\": \"\",\n        \"description\": \"\"\n      }\n    },\n    {\n      \"column\": \"messages\",\n      \"properties\": {\n        \"dtype\": \"number\",\n        \"std\": 0.36357729262056043,\n        \"min\": 0.17311022580969093,\n        \"max\": 1.0,\n        \"num_unique_values\": 5,\n        \"samples\": [\n          0.17311022580969093,\n          0.20382983853553635,\n          1.0\n        ],\n        \"semantic_type\": \"\",\n        \"description\": \"\"\n      }\n    },\n    {\n      \"column\": \"mb_used\",\n      \"properties\": {\n        \"dtype\": \"number\",\n        \"std\": 0.34244555547495853,\n        \"min\": 0.19572112095582123,\n        \"max\": 1.0,\n        \"num_unique_values\": 5,\n        \"samples\": [\n          0.28096693508821463,\n          0.198567645619742,\n          0.19572112095582123\n        ],\n        \"semantic_type\": \"\",\n        \"description\": \"\"\n      }\n    },\n    {\n      \"column\": \"is_ultra\",\n      \"properties\": {\n        \"dtype\": \"number\",\n        \"std\": 0.3559459047583733,\n        \"min\": 0.198567645619742,\n        \"max\": 1.0,\n        \"num_unique_values\": 5,\n        \"samples\": [\n          0.20695463812169465,\n          1.0,\n          0.20382983853553635\n        ],\n        \"semantic_type\": \"\",\n        \"description\": \"\"\n      }\n    }\n  ]\n}"
            }
          },
          "metadata": {},
          "execution_count": 15
        }
      ],
      "source": [
        "df.corr()"
      ]
    },
    {
      "cell_type": "code",
      "execution_count": 16,
      "id": "041ff30e-f878-4882-9f66-9250f38914ab",
      "metadata": {
        "colab": {
          "base_uri": "https://localhost:8080/",
          "height": 505
        },
        "id": "041ff30e-f878-4882-9f66-9250f38914ab",
        "outputId": "b50b9092-da43-440d-a078-b770998c6dad"
      },
      "outputs": [
        {
          "output_type": "execute_result",
          "data": {
            "text/plain": [
              "<Axes: title={'center': 'Корреляция минут и звонков'}, xlabel='calls'>"
            ]
          },
          "metadata": {},
          "execution_count": 16
        },
        {
          "output_type": "display_data",
          "data": {
            "text/plain": [
              "<Figure size 800x500 with 1 Axes>"
            ],
            "image/png": "[encoded data removed]"
          },
          "metadata": {}
        }
      ],
      "source": [
        "df.plot(x = 'calls',y = 'minutes',grid=True, style='x', figsize=(8, 5), title = 'Корреляция минут и звонков')\n"
      ]
    },
    {
      "cell_type": "markdown",
      "id": "5334cf1f-cb0f-4e54-8fb3-07c337ff74a4",
      "metadata": {
        "id": "5334cf1f-cb0f-4e54-8fb3-07c337ff74a4"
      },
      "source": [
        "### Вывод: видим очень сильную взаимосвязь между минутам и звонками"
      ]
    },
    {
      "cell_type": "markdown",
      "id": "853b5e71-251c-41b8-8610-27c78c8e80ff",
      "metadata": {
        "id": "853b5e71-251c-41b8-8610-27c78c8e80ff"
      },
      "source": [
        "#### Данные хорошо подготовлены без пропусков и дубликатов\n",
        "### Приступим к выполнению проекта\n",
        "Нам нужно разбить данные на выборки \\\n",
        "Тестовая выборка у нас отсутствует, поэтому разобъем текущую выборку на три: тестовую, обучающую и валидационную в отношении 3:1:1 \\\n",
        "60% - обучающая выборка \\\n",
        "20% -тестовая выборка \\\n",
        "20% - валидационная"
      ]
    },
    {
      "cell_type": "code",
      "execution_count": 17,
      "id": "fcdcb1c6-6e7f-4754-bb11-19e3e87d7792",
      "metadata": {
        "id": "fcdcb1c6-6e7f-4754-bb11-19e3e87d7792"
      },
      "outputs": [],
      "source": [
        "features = df.drop(['is_ultra'], axis=1)\n",
        "target = df['is_ultra']"
      ]
    },
    {
      "cell_type": "code",
      "execution_count": 18,
      "id": "7bf37532-c102-48b0-a5f1-4f7146657a55",
      "metadata": {
        "id": "7bf37532-c102-48b0-a5f1-4f7146657a55"
      },
      "outputs": [],
      "source": [
        "features_train, features_b, target_train, target_b = train_test_split(\n",
        "    features, target, test_size=0.4, random_state=12345)"
      ]
    },
    {
      "cell_type": "markdown",
      "id": "38791e57-ce17-42df-a0d7-bf1d6e62d222",
      "metadata": {
        "id": "38791e57-ce17-42df-a0d7-bf1d6e62d222"
      },
      "source": [
        "features_test, target_test - признаки и целевой признак тестовой выборки\n",
        "features_valid, target_valid - признаки и целевой признак валидационной выборки\n"
      ]
    },
    {
      "cell_type": "code",
      "execution_count": 19,
      "id": "c84d2b50-e4bb-4969-b4f4-66242ec7e697",
      "metadata": {
        "id": "c84d2b50-e4bb-4969-b4f4-66242ec7e697"
      },
      "outputs": [],
      "source": [
        "features_test, features_valid, target_test, target_valid = train_test_split(\n",
        "    features_b, target_b, test_size=0.5, random_state=12345)"
      ]
    },
    {
      "cell_type": "code",
      "execution_count": 20,
      "id": "9dfb3851-65d5-4cb8-88f9-96a57898e3d1",
      "metadata": {
        "colab": {
          "base_uri": "https://localhost:8080/"
        },
        "id": "9dfb3851-65d5-4cb8-88f9-96a57898e3d1",
        "outputId": "f26dd3b9-dcbb-486b-c876-b0d89239440e"
      },
      "outputs": [
        {
          "output_type": "execute_result",
          "data": {
            "text/plain": [
              "(1928, 4)"
            ]
          },
          "metadata": {},
          "execution_count": 20
        }
      ],
      "source": [
        "features_train.shape"
      ]
    },
    {
      "cell_type": "markdown",
      "id": "a681f3cc-4f51-4594-a17c-dfe691e559ee",
      "metadata": {
        "id": "a681f3cc-4f51-4594-a17c-dfe691e559ee"
      },
      "source": [
        "print(df_train.shape)"
      ]
    },
    {
      "cell_type": "code",
      "execution_count": 21,
      "id": "fd19decb-ab44-4d83-9353-e8e5a2415c03",
      "metadata": {
        "colab": {
          "base_uri": "https://localhost:8080/"
        },
        "id": "fd19decb-ab44-4d83-9353-e8e5a2415c03",
        "outputId": "5e83258d-4461-467f-b3b1-ff57ba178c8d"
      },
      "outputs": [
        {
          "output_type": "execute_result",
          "data": {
            "text/plain": [
              "(643, 4)"
            ]
          },
          "metadata": {},
          "execution_count": 21
        }
      ],
      "source": [
        "features_test.shape"
      ]
    },
    {
      "cell_type": "code",
      "execution_count": 22,
      "id": "0b43e80b-6faf-43b6-96be-a8e73a7cdcc0",
      "metadata": {
        "tags": [],
        "colab": {
          "base_uri": "https://localhost:8080/"
        },
        "id": "0b43e80b-6faf-43b6-96be-a8e73a7cdcc0",
        "outputId": "7c47516d-d2a7-42b3-804b-b84ba98559eb"
      },
      "outputs": [
        {
          "output_type": "execute_result",
          "data": {
            "text/plain": [
              "(643, 4)"
            ]
          },
          "metadata": {},
          "execution_count": 22
        }
      ],
      "source": [
        "features_valid.shape"
      ]
    },
    {
      "cell_type": "markdown",
      "id": "f23dbbaf-b8d0-4cef-b83a-13bc2125b91a",
      "metadata": {
        "id": "f23dbbaf-b8d0-4cef-b83a-13bc2125b91a"
      },
      "source": [
        "### Исследуем качество разных моделей"
      ]
    },
    {
      "cell_type": "markdown",
      "id": "6a6ecd7c-909d-4f9d-8395-cd912ab50a9c",
      "metadata": {
        "id": "6a6ecd7c-909d-4f9d-8395-cd912ab50a9c"
      },
      "source": [
        "Исследовать будем\n",
        "### ДЕРЕВО РЕШЕИЙ\n",
        "### СЛУЧАЙНЫЙ ЛЕС\n",
        "### ЛОГИСТИЧЕСКАЯ РЕГРЕССИЯ"
      ]
    },
    {
      "cell_type": "markdown",
      "id": "9fc1f016-6184-45ef-9048-836551678092",
      "metadata": {
        "id": "9fc1f016-6184-45ef-9048-836551678092"
      },
      "source": [
        "### DecisionTree"
      ]
    },
    {
      "cell_type": "code",
      "execution_count": 23,
      "id": "a48429fd-3a92-43be-801a-4ab7f6a7c9c4",
      "metadata": {
        "colab": {
          "base_uri": "https://localhost:8080/"
        },
        "id": "a48429fd-3a92-43be-801a-4ab7f6a7c9c4",
        "outputId": "82d968f9-7254-4b96-c8e6-c378d509f8cf"
      },
      "outputs": [
        {
          "output_type": "stream",
          "name": "stdout",
          "text": [
            "Качество модели: 0.7993779160186625 Наилучшая глубина 7\n"
          ]
        }
      ],
      "source": [
        "best_model = None\n",
        "best_result = 0\n",
        "\n",
        "for depth in range(1, 11):\n",
        "    model = DecisionTreeClassifier(random_state=12345, max_depth=depth) # обучите модель с заданной глубиной дерева\n",
        "\n",
        "    model.fit(features_train, target_train) # обучите модель\n",
        "\n",
        "    predictions = model.predict(features_valid) # получите предсказания модели\n",
        "\n",
        "    result = accuracy_score(target_valid, predictions) # посчитайте качество модели\n",
        "\n",
        "    if result > best_result:\n",
        "        best_model = model\n",
        "        best_result = result\n",
        "        best_depth = depth\n",
        "print('Качество модели:', best_result, 'Наилучшая глубина', best_depth)"
      ]
    },
    {
      "cell_type": "code",
      "execution_count": 32,
      "id": "33504b78-d957-47a5-9b52-2e4927dc837e",
      "metadata": {
        "colab": {
          "base_uri": "https://localhost:8080/"
        },
        "id": "33504b78-d957-47a5-9b52-2e4927dc837e",
        "outputId": "2d544d10-5336-41b0-e500-0ea946b625b7"
      },
      "outputs": [
        {
          "output_type": "stream",
          "name": "stdout",
          "text": [
            "Качество модели: 0.8009331259720062 Наилучшая глубина: 7 Лучшие параметры: ['gini', 3, 2]\n"
          ]
        }
      ],
      "source": [
        "best_model = None\n",
        "best_result = 0\n",
        "\n",
        "for depth in range(1, 11):\n",
        "    for min_samples_leaf in range(1, 11):\n",
        "        for min_samples_split in range(2, 11):\n",
        "            for criterion in ['gini', 'entropy']:  # исправлено: добавлен список критериев\n",
        "\n",
        "                model = DecisionTreeClassifier(class_weight=None,\n",
        "                                               criterion=criterion,\n",
        "                                               max_depth=depth,\n",
        "                                               min_samples_leaf=min_samples_leaf,\n",
        "                                               min_samples_split=min_samples_split,\n",
        "                                               random_state=12345)\n",
        "\n",
        "                model.fit(features_train, target_train)  # исправлено: обучение модели model_2 заменено на model\n",
        "\n",
        "                predictions = model.predict(features_valid)\n",
        "\n",
        "                result = accuracy_score(target_valid, predictions)\n",
        "\n",
        "                if result > best_result:\n",
        "                    best_model = model\n",
        "                    best_result = result\n",
        "                    best_depth = depth\n",
        "                    best_params = [criterion, min_samples_leaf, min_samples_split]\n",
        "\n",
        "print('Качество модели:', best_result, 'Наилучшая глубина:', best_depth, 'Лучшие параметры:', best_params)"
      ]
    },
    {
      "cell_type": "markdown",
      "id": "e926e6a3-ff20-418b-971b-2bf176008ce8",
      "metadata": {
        "id": "e926e6a3-ff20-418b-971b-2bf176008ce8"
      },
      "source": [
        "### RandomForest"
      ]
    },
    {
      "cell_type": "code",
      "execution_count": 25,
      "id": "3c0206f3-0fea-4fff-b64d-5006ea954f5f",
      "metadata": {
        "colab": {
          "base_uri": "https://localhost:8080/"
        },
        "id": "3c0206f3-0fea-4fff-b64d-5006ea954f5f",
        "outputId": "9280b6ee-c875-406b-d0c3-1b986069b48c"
      },
      "outputs": [
        {
          "output_type": "stream",
          "name": "stdout",
          "text": [
            "Качество модели: 0.8055987558320373 Лучшая глубина 1\n"
          ]
        }
      ],
      "source": [
        "best_model = None\n",
        "best_result = 0\n",
        "for est in range(1, 11):\n",
        "    model = RandomForestClassifier(random_state=12345, n_estimators= est, max_depth=depth) # обучите модель с заданным количеством деревьев\n",
        "    model.fit(features_train, target_train) # обучите модель на тренировочной выборке\n",
        "    result = model.score(features_valid, target_valid) # посчитайте качество модели на валидационной выборке\n",
        "    if result > best_result:\n",
        "        best_model = model# сохраните наилучшую модель\n",
        "        best_result = result#  сохраните наилучшее значение метрики accuracy на валидационных данных\n",
        "\n",
        "print(\"Качество модели:\", best_result, 'Лучшая глубина', best_depth)"
      ]
    },
    {
      "cell_type": "code",
      "execution_count": 26,
      "id": "210d7e87-2c34-4fc7-8b6a-41bea482c101",
      "metadata": {
        "colab": {
          "base_uri": "https://localhost:8080/"
        },
        "id": "210d7e87-2c34-4fc7-8b6a-41bea482c101",
        "outputId": "94a921f5-1d14-41ec-dbfa-08822ccb0637"
      },
      "outputs": [
        {
          "output_type": "stream",
          "name": "stdout",
          "text": [
            "Качество модели: 0.8133748055987559 Лучшая глубина 1 Количество деревьев: 8 Лучшая модель: RandomForestClassifier(max_depth=9, n_estimators=8, random_state=12345)\n"
          ]
        }
      ],
      "source": [
        "best_model = None\n",
        "best_result = 0\n",
        "best_est = 0\n",
        "for est in range(1, 11):\n",
        "    for depth in range (1,11):\n",
        "        model = RandomForestClassifier(random_state=12345,criterion='gini', n_estimators= est, max_depth=depth) # обучите модель с заданным количеством деревьев\n",
        "        model.fit(features_train, target_train) # обучите модель на тренировочной выборке\n",
        "        result = model.score(features_valid, target_valid) # посчитайте качество модели на валидационной выборке\n",
        "        if result > best_result:\n",
        "            best_model = model# сохраните наилучшую модель\n",
        "            best_result = result#  сохраните наилучшее значение метрики accuracy на валидационных данных\n",
        "            best_est = est\n",
        "\n",
        "print(\"Качество модели:\", best_result, 'Лучшая глубина', best_depth, 'Количество деревьев:', best_est,'Лучшая модель:',best_model)"
      ]
    },
    {
      "cell_type": "code",
      "execution_count": 27,
      "id": "29517908-49b8-424c-b456-3cd3f9d5624f",
      "metadata": {
        "id": "29517908-49b8-424c-b456-3cd3f9d5624f"
      },
      "outputs": [],
      "source": [
        "#Гиперпараметры для дальнейшего использования\n",
        "#criterion='gini', max_depth=None, min_samples_split=2,\n",
        "#min_samples_leaf=1, min_weight_fraction_leaf=0.0,\n",
        "#max_features='auto', max_leaf_nodes=None,"
      ]
    },
    {
      "cell_type": "markdown",
      "id": "ee54fe62-ba8d-4b84-b623-fd83812ecd1a",
      "metadata": {
        "id": "ee54fe62-ba8d-4b84-b623-fd83812ecd1a"
      },
      "source": [
        "### LogisticRegression"
      ]
    },
    {
      "cell_type": "code",
      "execution_count": 28,
      "id": "a63feb5d-1a84-4d24-bf98-dc29519548ff",
      "metadata": {
        "tags": [],
        "colab": {
          "base_uri": "https://localhost:8080/"
        },
        "id": "a63feb5d-1a84-4d24-bf98-dc29519548ff",
        "outputId": "e3669a12-7cf1-428b-8476-5e792e3797fb"
      },
      "outputs": [
        {
          "output_type": "stream",
          "name": "stdout",
          "text": [
            "Качество модели 0.7131742738589212\n"
          ]
        }
      ],
      "source": [
        "model = LogisticRegression(random_state=12345, solver='lbfgs')# Напишите код здесь\n",
        "model.fit(features_train, target_train)\n",
        "predictions = model.predict(features_valid)\n",
        "result = model.score(features_train, target_train)\n",
        "print('Качество модели',result)"
      ]
    },
    {
      "cell_type": "markdown",
      "id": "fc6c449d-2204-4999-9378-5ab8ee540ea0",
      "metadata": {
        "id": "fc6c449d-2204-4999-9378-5ab8ee540ea0"
      },
      "source": [
        "### Лучшая модель:\n",
        "1.RandomForest \\\n",
        "2.DecisionTree \\\n",
        "3.LogisticRegression"
      ]
    },
    {
      "cell_type": "markdown",
      "id": "93dab896-1017-488e-b94b-618a86ec7973",
      "metadata": {
        "id": "93dab896-1017-488e-b94b-618a86ec7973"
      },
      "source": [
        "### Проверим качество модели на тестовой выбрке"
      ]
    },
    {
      "cell_type": "code",
      "execution_count": 29,
      "id": "57dc295f-b624-4b33-8474-64595d2c3f34",
      "metadata": {
        "colab": {
          "base_uri": "https://localhost:8080/"
        },
        "id": "57dc295f-b624-4b33-8474-64595d2c3f34",
        "outputId": "848089b5-93bb-41cd-91b9-cf6a8c20495b"
      },
      "outputs": [
        {
          "output_type": "stream",
          "name": "stdout",
          "text": [
            "Качество модели на тестовых данных 0.7931570762052877\n"
          ]
        }
      ],
      "source": [
        "model = RandomForestClassifier(random_state=12345, n_estimators= 7, max_depth= 7)\n",
        "model.fit(features_train, target_train)\n",
        "result = model.score(features_test, target_test)\n",
        "print('Качество модели на тестовых данных',result)"
      ]
    },
    {
      "cell_type": "markdown",
      "id": "ed911d7a-70fe-4d56-8935-32d9a4458db2",
      "metadata": {
        "id": "ed911d7a-70fe-4d56-8935-32d9a4458db2"
      },
      "source": [
        "### Проверьте модели на вменяемость"
      ]
    },
    {
      "cell_type": "code",
      "execution_count": 30,
      "id": "2c98c54a-c092-4233-8a06-8894cfb5232b",
      "metadata": {
        "colab": {
          "base_uri": "https://localhost:8080/",
          "height": 81
        },
        "id": "2c98c54a-c092-4233-8a06-8894cfb5232b",
        "outputId": "10dbdc03-2452-42ad-870e-5f72a161ff06"
      },
      "outputs": [
        {
          "output_type": "execute_result",
          "data": {
            "text/plain": [
              "   most_frequent\n",
              "0       0.706065"
            ],
            "text/html": [
              "\n",
              "  <div id=\"df-bd5eeebc-c017-4d9d-8b21-906ad112d86e\" class=\"colab-df-container\">\n",
              "    <div>\n",
              "<style scoped>\n",
              "    .dataframe tbody tr th:only-of-type {\n",
              "        vertical-align: middle;\n",
              "    }\n",
              "\n",
              "    .dataframe tbody tr th {\n",
              "        vertical-align: top;\n",
              "    }\n",
              "\n",
              "    .dataframe thead th {\n",
              "        text-align: right;\n",
              "    }\n",
              "</style>\n",
              "<table border=\"1\" class=\"dataframe\">\n",
              "  <thead>\n",
              "    <tr style=\"text-align: right;\">\n",
              "      <th></th>\n",
              "      <th>most_frequent</th>\n",
              "    </tr>\n",
              "  </thead>\n",
              "  <tbody>\n",
              "    <tr>\n",
              "      <th>0</th>\n",
              "      <td>0.706065</td>\n",
              "    </tr>\n",
              "  </tbody>\n",
              "</table>\n",
              "</div>\n",
              "    <div class=\"colab-df-buttons\">\n",
              "\n",
              "  <div class=\"colab-df-container\">\n",
              "    <button class=\"colab-df-convert\" onclick=\"convertToInteractive('df-bd5eeebc-c017-4d9d-8b21-906ad112d86e')\"\n",
              "            title=\"Convert this dataframe to an interactive table.\"\n",
              "            style=\"display:none;\">\n",
              "\n",
              "  <svg xmlns=\"http://www.w3.org/2000/svg\" height=\"24px\" viewBox=\"0 -960 960 960\">\n",
              "    <path d=\"M120-120v-720h720v720H120Zm60-500h600v-160H180v160Zm220 220h160v-160H400v160Zm0 220h160v-160H400v160ZM180-400h160v-160H180v160Zm440 0h160v-160H620v160ZM180-180h160v-160H180v160Zm440 0h160v-160H620v160Z\"/>\n",
              "  </svg>\n",
              "    </button>\n",
              "\n",
              "  <style>\n",
              "    .colab-df-container {\n",
              "      display:flex;\n",
              "      gap: 12px;\n",
              "    }\n",
              "\n",
              "    .colab-df-convert {\n",
              "      background-color: #E8F0FE;\n",
              "      border: none;\n",
              "      border-radius: 50%;\n",
              "      cursor: pointer;\n",
              "      display: none;\n",
              "      fill: #1967D2;\n",
              "      height: 32px;\n",
              "      padding: 0 0 0 0;\n",
              "      width: 32px;\n",
              "    }\n",
              "\n",
              "    .colab-df-convert:hover {\n",
              "      background-color: #E2EBFA;\n",
              "      box-shadow: 0px 1px 2px rgba(60, 64, 67, 0.3), 0px 1px 3px 1px rgba(60, 64, 67, 0.15);\n",
              "      fill: #174EA6;\n",
              "    }\n",
              "\n",
              "    .colab-df-buttons div {\n",
              "      margin-bottom: 4px;\n",
              "    }\n",
              "\n",
              "    [theme=dark] .colab-df-convert {\n",
              "      background-color: #3B4455;\n",
              "      fill: #D2E3FC;\n",
              "    }\n",
              "\n",
              "    [theme=dark] .colab-df-convert:hover {\n",
              "      background-color: #434B5C;\n",
              "      box-shadow: 0px 1px 3px 1px rgba(0, 0, 0, 0.15);\n",
              "      filter: drop-shadow(0px 1px 2px rgba(0, 0, 0, 0.3));\n",
              "      fill: #FFFFFF;\n",
              "    }\n",
              "  </style>\n",
              "\n",
              "    <script>\n",
              "      const buttonEl =\n",
              "        document.querySelector('#df-bd5eeebc-c017-4d9d-8b21-906ad112d86e button.colab-df-convert');\n",
              "      buttonEl.style.display =\n",
              "        google.colab.kernel.accessAllowed ? 'block' : 'none';\n",
              "\n",
              "      async function convertToInteractive(key) {\n",
              "        const element = document.querySelector('#df-bd5eeebc-c017-4d9d-8b21-906ad112d86e');\n",
              "        const dataTable =\n",
              "          await google.colab.kernel.invokeFunction('convertToInteractive',\n",
              "                                                    [key], {});\n",
              "        if (!dataTable) return;\n",
              "\n",
              "        const docLinkHtml = 'Like what you see? Visit the ' +\n",
              "          '<a target=\"_blank\" href=https://colab.research.google.com/notebooks/data_table.ipynb>data table notebook</a>'\n",
              "          + ' to learn more about interactive tables.';\n",
              "        element.innerHTML = '';\n",
              "        dataTable['output_type'] = 'display_data';\n",
              "        await google.colab.output.renderOutput(dataTable, element);\n",
              "        const docLink = document.createElement('div');\n",
              "        docLink.innerHTML = docLinkHtml;\n",
              "        element.appendChild(docLink);\n",
              "      }\n",
              "    </script>\n",
              "  </div>\n",
              "\n",
              "    </div>\n",
              "  </div>\n"
            ],
            "application/vnd.google.colaboratory.intrinsic+json": {
              "type": "dataframe",
              "summary": "{\n  \"name\": \"pd\",\n  \"rows\": 1,\n  \"fields\": [\n    {\n      \"column\": \"most_frequent\",\n      \"properties\": {\n        \"dtype\": \"number\",\n        \"std\": null,\n        \"min\": 0.7060653188180405,\n        \"max\": 0.7060653188180405,\n        \"num_unique_values\": 1,\n        \"samples\": [\n          0.7060653188180405\n        ],\n        \"semantic_type\": \"\",\n        \"description\": \"\"\n      }\n    }\n  ]\n}"
            }
          },
          "metadata": {},
          "execution_count": 30
        }
      ],
      "source": [
        "strategies = ['most_frequent']\n",
        "\n",
        "dummy_results = []\n",
        "\n",
        "for strategy in strategies:\n",
        "    dummy_classifire = DummyClassifier(strategy = strategy, random_state = 0)\n",
        "\n",
        "dummy_classifire.fit(features_train, target_train)\n",
        "\n",
        "result = dummy_classifire.score(features_test, target_test)\n",
        "\n",
        "dummy_results.append({strategy: result})\n",
        "\n",
        "pd.DataFrame(dummy_results)\n"
      ]
    },
    {
      "cell_type": "markdown",
      "id": "0369fa51-e576-4820-b1e8-0513a4c06fa1",
      "metadata": {
        "id": "0369fa51-e576-4820-b1e8-0513a4c06fa1"
      },
      "source": [
        "### Вывод: На тестовых данных модель показывает лучше результат, что подтверждает адекватность нашей модели"
      ]
    },
    {
      "cell_type": "markdown",
      "id": "c5cea63f-d264-4d81-af2d-a04048e2d5ee",
      "metadata": {
        "id": "c5cea63f-d264-4d81-af2d-a04048e2d5ee"
      },
      "source": [
        "### Итоговый вывод по проекту:\n",
        "Мы рассмотрели 3 модели (расположил их в порядке убывания показателя точности модели) \\\n",
        "1.RandomForest \\\n",
        "2.DecisionTree \\\n",
        "3.LogisticRegression \\\n",
        "Также мы рассмотрели модель на адекватность и подтвердили ее.\n",
        "Повели оценку модели на тестовых даных (точность оказалась чуть ниже валидационных, что является нормальным)\n"
      ]
    }
  ],
  "metadata": {
    "kernelspec": {
      "display_name": "Python 3 (ipykernel)",
      "language": "python",
      "name": "python3"
    },
    "language_info": {
      "codemirror_mode": {
        "name": "ipython",
        "version": 3
      },
      "file_extension": ".py",
      "mimetype": "text/x-python",
      "name": "python",
      "nbconvert_exporter": "python",
      "pygments_lexer": "ipython3",
      "version": "3.9.5"
    },
    "toc": {
      "base_numbering": 1,
      "nav_menu": {},
      "number_sections": true,
      "sideBar": true,
      "skip_h1_title": true,
      "title_cell": "Table of Contents",
      "title_sidebar": "Contents",
      "toc_cell": false,
      "toc_position": {},
      "toc_section_display": true,
      "toc_window_display": false
    },
    "colab": {
      "provenance": []
    }
  },
  "nbformat": 4,
  "nbformat_minor": 5
}