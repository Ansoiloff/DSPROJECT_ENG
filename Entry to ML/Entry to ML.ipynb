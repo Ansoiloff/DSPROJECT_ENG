{
 "cells": [
  {
   "cell_type": "markdown",
   "id": "a64df970-51f8-4c00-899d-2f6a0bc8c2f0",
   "metadata": {},
   "source": [
    "## Project description\n",
    "\n",
    "The mobile operator Megaline has found out that many customers use archived tariffs. They want to build a system that can analyze customer behavior and offer users a new tariff: «Smart» or «Ultra».\n",
    "\n",
    "You have data on the behavior of customers who have already switched to these tariffs (from the course project «Statistical Data Analysis»). It is necessary to build a model for the classification problem, which will select the appropriate tariff. Data preprocessing is not needed — you have already done it.\n",
    "\n",
    "Build a model with the largest possible accuracy value. To successfully complete the project, you need to bring the proportion of correct answers to at least 0.75. Check the accuracy on the test sample yourself."
   ]
  },
  {
   "cell_type": "markdown",
   "id": "fe7db74b-3424-4a46-9366-66a4b8c70c58",
   "metadata": {},
   "source": [
    "## Project instructions\n",
    "\n",
    "Open the file with data and study it. The path to the file is: /datasets/us\n",
    "\n",
    "Divide the initial data into training, validation and test samples.\n",
    "\n",
    "Explore the quality of different models, changing hyperparameters. Summarize the findings of the study.\n",
    "\n",
    "Check the quality of the model on the test sample.\n",
    "\n",
    "Additional task: check the models for sanity. It's okay if it doesn't work out: this data is more complex than what you have worked with before."
   ]
  },
  {
   "cell_type": "markdown",
   "id": "6a287bc7-aba6-40cb-b687-1bcdc05d9dae",
   "metadata": {},
   "source": [
    "## Data description\n",
    "Each object in the dataset is information about one user's behavior for a month. It is known:\n",
    "\n",
    "calls — the number of calls,\n",
    "minutes — the total duration of calls in minutes,\n",
    "messages — the number of SMS messages,\n",
    "mb_used — the consumed Internet traffic in MB,\n",
    "is_ultra — which tariff was used during the month («Ultra» — 1, «Smart» — 0)."
   ]
  },
  {
   "cell_type": "code",
   "execution_count": 1,
   "id": "774c9817-dd9f-4c85-88ba-033a52fef637",
   "metadata": {
    "tags": []
   },
   "outputs": [],
   "source": [
    "import pandas as pd\n",
    "import numpy as np\n",
    "import matplotlib.pyplot as plt\n",
    "import seaborn as sns\n",
    "\n",
    "from sklearn.tree import DecisionTreeClassifier\n",
    "from sklearn.tree import DecisionTreeRegressor\n",
    "from sklearn.ensemble import RandomForestRegressor\n",
    "from sklearn.ensemble import RandomForestClassifier\n",
    "from sklearn.linear_model import LogisticRegression\n",
    "from sklearn.linear_model import LinearRegression\n",
    "from sklearn.model_selection import train_test_split\n",
    "from sklearn.metrics import mean_squared_error\n",
    "from sklearn.metrics import accuracy_score\n",
    "\n",
    "from sklearn.dummy import DummyClassifier"
   ]
  },
  {
   "cell_type": "code",
   "execution_count": 2,
   "id": "81bd2a0b-e7ca-410c-a4db-4846da051b06",
   "metadata": {
    "tags": []
   },
   "outputs": [],
   "source": [
    "try:\n",
    "    df = pd.read_csv('users_behavior.csv')\n",
    "except:\n",
    "    df = pd.read_csv('https://code.s3.yandex.net/datasets/users_behavior.csv')"
   ]
  },
  {
   "cell_type": "code",
   "execution_count": 3,
   "id": "d77f5520-a6f9-4205-b411-f1abc165ee4f",
   "metadata": {
    "tags": []
   },
   "outputs": [
    {
     "data": {
      "text/html": [
       "<div>\n",
       "<style scoped>\n",
       "    .dataframe tbody tr th:only-of-type {\n",
       "        vertical-align: middle;\n",
       "    }\n",
       "\n",
       "    .dataframe tbody tr th {\n",
       "        vertical-align: top;\n",
       "    }\n",
       "\n",
       "    .dataframe thead th {\n",
       "        text-align: right;\n",
       "    }\n",
       "</style>\n",
       "<table border=\"1\" class=\"dataframe\">\n",
       "  <thead>\n",
       "    <tr style=\"text-align: right;\">\n",
       "      <th></th>\n",
       "      <th>calls</th>\n",
       "      <th>minutes</th>\n",
       "      <th>messages</th>\n",
       "      <th>mb_used</th>\n",
       "      <th>is_ultra</th>\n",
       "    </tr>\n",
       "  </thead>\n",
       "  <tbody>\n",
       "    <tr>\n",
       "      <th>0</th>\n",
       "      <td>40.0</td>\n",
       "      <td>311.90</td>\n",
       "      <td>83.0</td>\n",
       "      <td>19915.42</td>\n",
       "      <td>0</td>\n",
       "    </tr>\n",
       "    <tr>\n",
       "      <th>1</th>\n",
       "      <td>85.0</td>\n",
       "      <td>516.75</td>\n",
       "      <td>56.0</td>\n",
       "      <td>22696.96</td>\n",
       "      <td>0</td>\n",
       "    </tr>\n",
       "    <tr>\n",
       "      <th>2</th>\n",
       "      <td>77.0</td>\n",
       "      <td>467.66</td>\n",
       "      <td>86.0</td>\n",
       "      <td>21060.45</td>\n",
       "      <td>0</td>\n",
       "    </tr>\n",
       "    <tr>\n",
       "      <th>3</th>\n",
       "      <td>106.0</td>\n",
       "      <td>745.53</td>\n",
       "      <td>81.0</td>\n",
       "      <td>8437.39</td>\n",
       "      <td>1</td>\n",
       "    </tr>\n",
       "    <tr>\n",
       "      <th>4</th>\n",
       "      <td>66.0</td>\n",
       "      <td>418.74</td>\n",
       "      <td>1.0</td>\n",
       "      <td>14502.75</td>\n",
       "      <td>0</td>\n",
       "    </tr>\n",
       "    <tr>\n",
       "      <th>5</th>\n",
       "      <td>58.0</td>\n",
       "      <td>344.56</td>\n",
       "      <td>21.0</td>\n",
       "      <td>15823.37</td>\n",
       "      <td>0</td>\n",
       "    </tr>\n",
       "    <tr>\n",
       "      <th>6</th>\n",
       "      <td>57.0</td>\n",
       "      <td>431.64</td>\n",
       "      <td>20.0</td>\n",
       "      <td>3738.90</td>\n",
       "      <td>1</td>\n",
       "    </tr>\n",
       "    <tr>\n",
       "      <th>7</th>\n",
       "      <td>15.0</td>\n",
       "      <td>132.40</td>\n",
       "      <td>6.0</td>\n",
       "      <td>21911.60</td>\n",
       "      <td>0</td>\n",
       "    </tr>\n",
       "    <tr>\n",
       "      <th>8</th>\n",
       "      <td>7.0</td>\n",
       "      <td>43.39</td>\n",
       "      <td>3.0</td>\n",
       "      <td>2538.67</td>\n",
       "      <td>1</td>\n",
       "    </tr>\n",
       "    <tr>\n",
       "      <th>9</th>\n",
       "      <td>90.0</td>\n",
       "      <td>665.41</td>\n",
       "      <td>38.0</td>\n",
       "      <td>17358.61</td>\n",
       "      <td>0</td>\n",
       "    </tr>\n",
       "    <tr>\n",
       "      <th>10</th>\n",
       "      <td>82.0</td>\n",
       "      <td>560.51</td>\n",
       "      <td>20.0</td>\n",
       "      <td>9619.53</td>\n",
       "      <td>1</td>\n",
       "    </tr>\n",
       "    <tr>\n",
       "      <th>11</th>\n",
       "      <td>45.0</td>\n",
       "      <td>344.32</td>\n",
       "      <td>13.0</td>\n",
       "      <td>19898.81</td>\n",
       "      <td>0</td>\n",
       "    </tr>\n",
       "    <tr>\n",
       "      <th>12</th>\n",
       "      <td>51.0</td>\n",
       "      <td>437.13</td>\n",
       "      <td>61.0</td>\n",
       "      <td>21523.58</td>\n",
       "      <td>0</td>\n",
       "    </tr>\n",
       "    <tr>\n",
       "      <th>13</th>\n",
       "      <td>56.0</td>\n",
       "      <td>433.07</td>\n",
       "      <td>16.0</td>\n",
       "      <td>16702.36</td>\n",
       "      <td>0</td>\n",
       "    </tr>\n",
       "    <tr>\n",
       "      <th>14</th>\n",
       "      <td>108.0</td>\n",
       "      <td>587.90</td>\n",
       "      <td>0.0</td>\n",
       "      <td>14406.50</td>\n",
       "      <td>1</td>\n",
       "    </tr>\n",
       "  </tbody>\n",
       "</table>\n",
       "</div>"
      ],
      "text/plain": [
       "    calls  minutes  messages   mb_used  is_ultra\n",
       "0    40.0   311.90      83.0  19915.42         0\n",
       "1    85.0   516.75      56.0  22696.96         0\n",
       "2    77.0   467.66      86.0  21060.45         0\n",
       "3   106.0   745.53      81.0   8437.39         1\n",
       "4    66.0   418.74       1.0  14502.75         0\n",
       "5    58.0   344.56      21.0  15823.37         0\n",
       "6    57.0   431.64      20.0   3738.90         1\n",
       "7    15.0   132.40       6.0  21911.60         0\n",
       "8     7.0    43.39       3.0   2538.67         1\n",
       "9    90.0   665.41      38.0  17358.61         0\n",
       "10   82.0   560.51      20.0   9619.53         1\n",
       "11   45.0   344.32      13.0  19898.81         0\n",
       "12   51.0   437.13      61.0  21523.58         0\n",
       "13   56.0   433.07      16.0  16702.36         0\n",
       "14  108.0   587.90       0.0  14406.50         1"
      ]
     },
     "execution_count": 3,
     "metadata": {},
     "output_type": "execute_result"
    }
   ],
   "source": [
    "df.head(15)"
   ]
  },
  {
   "cell_type": "code",
   "execution_count": 4,
   "id": "efde2c15-a680-491b-9dcd-a73e6aec4a47",
   "metadata": {
    "tags": []
   },
   "outputs": [
    {
     "name": "stdout",
     "output_type": "stream",
     "text": [
      "<class 'pandas.core.frame.DataFrame'>\n",
      "RangeIndex: 3214 entries, 0 to 3213\n",
      "Data columns (total 5 columns):\n",
      " #   Column    Non-Null Count  Dtype  \n",
      "---  ------    --------------  -----  \n",
      " 0   calls     3214 non-null   float64\n",
      " 1   minutes   3214 non-null   float64\n",
      " 2   messages  3214 non-null   float64\n",
      " 3   mb_used   3214 non-null   float64\n",
      " 4   is_ultra  3214 non-null   int64  \n",
      "dtypes: float64(4), int64(1)\n",
      "memory usage: 125.7 KB\n"
     ]
    }
   ],
   "source": [
    "df.info()"
   ]
  },
  {
   "cell_type": "code",
   "execution_count": 5,
   "id": "652f7e30-3be2-4650-ac72-25f5f5e90448",
   "metadata": {},
   "outputs": [
    {
     "data": {
      "text/plain": [
       "calls       0\n",
       "minutes     0\n",
       "messages    0\n",
       "mb_used     0\n",
       "is_ultra    0\n",
       "dtype: int64"
      ]
     },
     "execution_count": 5,
     "metadata": {},
     "output_type": "execute_result"
    }
   ],
   "source": [
    "# There are no missing values.\n",
    "df.isna().sum()"
   ]
  },
  {
   "cell_type": "code",
   "execution_count": 6,
   "id": "5860ebf8-3299-4608-87d4-a502c1495bfd",
   "metadata": {},
   "outputs": [
    {
     "data": {
      "text/plain": [
       "0"
      ]
     },
     "execution_count": 6,
     "metadata": {},
     "output_type": "execute_result"
    }
   ],
   "source": [
    "# There are no duplicates.\n",
    "df.duplicated().sum() "
   ]
  },
  {
   "cell_type": "code",
   "execution_count": 5,
   "id": "d1bd0887-a1e9-41c1-aedc-530313bff4fb",
   "metadata": {
    "tags": []
   },
   "outputs": [
    {
     "data": {
      "text/html": [
       "<div>\n",
       "<style scoped>\n",
       "    .dataframe tbody tr th:only-of-type {\n",
       "        vertical-align: middle;\n",
       "    }\n",
       "\n",
       "    .dataframe tbody tr th {\n",
       "        vertical-align: top;\n",
       "    }\n",
       "\n",
       "    .dataframe thead th {\n",
       "        text-align: right;\n",
       "    }\n",
       "</style>\n",
       "<table border=\"1\" class=\"dataframe\">\n",
       "  <thead>\n",
       "    <tr style=\"text-align: right;\">\n",
       "      <th></th>\n",
       "      <th>calls</th>\n",
       "      <th>minutes</th>\n",
       "      <th>messages</th>\n",
       "      <th>mb_used</th>\n",
       "      <th>is_ultra</th>\n",
       "    </tr>\n",
       "  </thead>\n",
       "  <tbody>\n",
       "    <tr>\n",
       "      <th>calls</th>\n",
       "      <td>1.000000</td>\n",
       "      <td>0.982083</td>\n",
       "      <td>0.177385</td>\n",
       "      <td>0.286442</td>\n",
       "      <td>0.207122</td>\n",
       "    </tr>\n",
       "    <tr>\n",
       "      <th>minutes</th>\n",
       "      <td>0.982083</td>\n",
       "      <td>1.000000</td>\n",
       "      <td>0.173110</td>\n",
       "      <td>0.280967</td>\n",
       "      <td>0.206955</td>\n",
       "    </tr>\n",
       "    <tr>\n",
       "      <th>messages</th>\n",
       "      <td>0.177385</td>\n",
       "      <td>0.173110</td>\n",
       "      <td>1.000000</td>\n",
       "      <td>0.195721</td>\n",
       "      <td>0.203830</td>\n",
       "    </tr>\n",
       "    <tr>\n",
       "      <th>mb_used</th>\n",
       "      <td>0.286442</td>\n",
       "      <td>0.280967</td>\n",
       "      <td>0.195721</td>\n",
       "      <td>1.000000</td>\n",
       "      <td>0.198568</td>\n",
       "    </tr>\n",
       "    <tr>\n",
       "      <th>is_ultra</th>\n",
       "      <td>0.207122</td>\n",
       "      <td>0.206955</td>\n",
       "      <td>0.203830</td>\n",
       "      <td>0.198568</td>\n",
       "      <td>1.000000</td>\n",
       "    </tr>\n",
       "  </tbody>\n",
       "</table>\n",
       "</div>"
      ],
      "text/plain": [
       "             calls   minutes  messages   mb_used  is_ultra\n",
       "calls     1.000000  0.982083  0.177385  0.286442  0.207122\n",
       "minutes   0.982083  1.000000  0.173110  0.280967  0.206955\n",
       "messages  0.177385  0.173110  1.000000  0.195721  0.203830\n",
       "mb_used   0.286442  0.280967  0.195721  1.000000  0.198568\n",
       "is_ultra  0.207122  0.206955  0.203830  0.198568  1.000000"
      ]
     },
     "execution_count": 5,
     "metadata": {},
     "output_type": "execute_result"
    }
   ],
   "source": [
    "df.corr()"
   ]
  },
  {
   "cell_type": "code",
   "execution_count": 7,
   "id": "1bf9d0dd-d783-4233-92ec-6ef3cc0342df",
   "metadata": {
    "tags": []
   },
   "outputs": [
    {
     "data": {
      "text/plain": [
       "<Axes: title={'center': 'Corr min and calls'}, xlabel='calls'>"
      ]
     },
     "execution_count": 7,
     "metadata": {},
     "output_type": "execute_result"
    },
    {
     "data": {
      "image/png": "[encoded data removed]",
      "text/plain": [
       "<Figure size 800x500 with 1 Axes>"
      ]
     },
     "metadata": {},
     "output_type": "display_data"
    }
   ],
   "source": [
    "df.plot(x = 'calls',y = 'minutes',grid=True, style='x', figsize=(8, 5), title = 'Corr min and calls')\n"
   ]
  },
  {
   "cell_type": "markdown",
   "id": "5bf7a4eb-9e78-4864-a7ff-89d35e94542e",
   "metadata": {},
   "source": [
    "### Conclusion: we see a very strong relationship between minutes and calls.\n"
   ]
  },
  {
   "cell_type": "markdown",
   "id": "50fe40ea-4355-4b15-984f-29c4d5c0bf79",
   "metadata": {
    "tags": []
   },
   "source": [
    "#### The data is well-prepared, with no missing values or duplicates.\n",
    "\n",
    "### Let's start the project.\n",
    "\n",
    "We need to split the data into samples.\n",
    "\n",
    "Since we don't have a test sample, we'll split the current sample into three: test, training, and validation, in a 3:1:1 ratio.\n",
    "\n",
    "* 60% — training sample.\n",
    "* 20% — test sample.\n",
    "* 20% — validation sample."
   ]
  },
  {
   "cell_type": "code",
   "execution_count": 8,
   "id": "7b2bb238-5f5a-4925-98f7-6280a5bb08ac",
   "metadata": {
    "tags": []
   },
   "outputs": [],
   "source": [
    "features = df.drop(['is_ultra'], axis=1)\n",
    "target = df['is_ultra']"
   ]
  },
  {
   "cell_type": "code",
   "execution_count": 9,
   "id": "26478896-31f4-4a61-b3f2-2dfec051220c",
   "metadata": {
    "tags": []
   },
   "outputs": [],
   "source": [
    "features_train, features_b, target_train, target_b = train_test_split(\n",
    "    features, target, test_size=0.4, random_state=12345)"
   ]
  },
  {
   "cell_type": "markdown",
   "id": "3759f220-beb5-4861-a7bb-7e330cf3b7d3",
   "metadata": {},
   "source": [
    "features_test and target_test are the features and the target feature of the test sample.\n",
    "\n",
    "features_valid and target_valid are the features and the target feature of the validation sample."
   ]
  },
  {
   "cell_type": "code",
   "execution_count": 10,
   "id": "3103218f-675f-430f-a92b-dedaacadd0c4",
   "metadata": {
    "tags": []
   },
   "outputs": [],
   "source": [
    "features_test, features_valid, target_test, target_valid = train_test_split(\n",
    "    features_b, target_b, test_size=0.5, random_state=12345)"
   ]
  },
  {
   "cell_type": "code",
   "execution_count": 11,
   "id": "12d57163-d9d9-43a9-9fd0-da9ca5c28e5e",
   "metadata": {
    "tags": []
   },
   "outputs": [
    {
     "data": {
      "text/plain": [
       "(1928, 4)"
      ]
     },
     "execution_count": 11,
     "metadata": {},
     "output_type": "execute_result"
    }
   ],
   "source": [
    "features_train.shape"
   ]
  },
  {
   "cell_type": "markdown",
   "id": "ec7924d5-d1c3-40b4-b3ff-8cdcf40402d8",
   "metadata": {},
   "source": [
    "print(df_train.shape)"
   ]
  },
  {
   "cell_type": "code",
   "execution_count": 12,
   "id": "ce0392dc-0d1b-4f6e-ab89-9ea54636ed00",
   "metadata": {
    "tags": []
   },
   "outputs": [
    {
     "data": {
      "text/plain": [
       "(643, 4)"
      ]
     },
     "execution_count": 12,
     "metadata": {},
     "output_type": "execute_result"
    }
   ],
   "source": [
    "features_test.shape"
   ]
  },
  {
   "cell_type": "code",
   "execution_count": 13,
   "id": "1e4ffaf8-56df-48a1-ab71-ed3ea8fdf1ce",
   "metadata": {
    "tags": []
   },
   "outputs": [
    {
     "data": {
      "text/plain": [
       "(643, 4)"
      ]
     },
     "execution_count": 13,
     "metadata": {},
     "output_type": "execute_result"
    }
   ],
   "source": [
    "features_valid.shape"
   ]
  },
  {
   "cell_type": "markdown",
   "id": "29f0888b-a074-462d-9f43-74ca5b96ed22",
   "metadata": {
    "tags": []
   },
   "source": [
    "### Exploring the Quality of Different Models  \n",
    "We will explore:\n",
    "- Decision Tree\n",
    "- Random Forest\n",
    "- Logistic Regression"
   ]
  },
  {
   "cell_type": "markdown",
   "id": "771a0fb7-59f9-4502-b7ad-e8d4f3a22011",
   "metadata": {},
   "source": [
    "### DecisionTree"
   ]
  },
  {
   "cell_type": "code",
   "execution_count": 14,
   "id": "00db302a-216d-4384-844e-4924a462314a",
   "metadata": {
    "tags": []
   },
   "outputs": [
    {
     "name": "stdout",
     "output_type": "stream",
     "text": [
      "accuracy: 0.7993779160186625 best_depth 7\n"
     ]
    }
   ],
   "source": [
    "best_model = None\n",
    "best_result = 0\n",
    "\n",
    "for depth in range(1, 11):\n",
    "    model = DecisionTreeClassifier(random_state=12345, max_depth=depth) # обучите модель с заданной глубиной дерева\n",
    "    \n",
    "    model.fit(features_train, target_train) # обучите модель\n",
    "    \n",
    "    predictions = model.predict(features_valid) # получите предсказания модели\n",
    "    \n",
    "    result = accuracy_score(target_valid, predictions) # посчитайте качество модели\n",
    "    \n",
    "    if result > best_result:\n",
    "        best_model = model\n",
    "        best_result = result\n",
    "        best_depth = depth\n",
    "print('accuracy:', best_result, 'best_depth', best_depth)"
   ]
  },
  {
   "cell_type": "code",
   "execution_count": 66,
   "id": "35e1466a-89bc-4083-a2b7-9efbed535fa0",
   "metadata": {},
   "outputs": [
    {
     "name": "stdout",
     "output_type": "stream",
     "text": [
      "Качество модели: 0.8009331259720062 Наилучшая глубина 1 Кол-во деревьев: 10 ['g', 1, 1]\n"
     ]
    }
   ],
   "source": [
    "best_model = None\n",
    "best_result = 0\n",
    "\n",
    "\n",
    "\n",
    "for depth in range(1, 11):\n",
    "    for min_samples_leaf in range(1,11):\n",
    "        for min_samples_split in range (1,11):\n",
    "            for criterion in 'gini':\n",
    "    \n",
    "                model_2 =DecisionTreeClassifier(class_weight=None,\n",
    "                                                criterion= criterion,\n",
    "                                                max_depth= depth,\n",
    "                                                min_samples_leaf=min_samples_leaf,\n",
    "                                                min_samples_split=min_samples_split,\n",
    "                                                random_state=12345) \n",
    "                model.fit(features_train, target_train) # обучите модель\n",
    "\n",
    "                predictions = model.predict(features_valid) # получите предсказания модели\n",
    "\n",
    "                result = accuracy_score(target_valid, predictions) # посчитайте качество модели\n",
    "\n",
    "\n",
    "                if result > best_result:\n",
    "                            best_model = model\n",
    "                            best_result = result\n",
    "                            best_depth = depth\n",
    "                            best_params = [criterion,min_samples_leaf,min_samples_split]\n",
    "\n",
    "        \n",
    "        \n",
    "print('Качество модели:', best_result, 'Наилучшая глубина', best_depth, 'Кол-во деревьев:',best_estimators,best_params)"
   ]
  },
  {
   "cell_type": "markdown",
   "id": "14054d7e-ceae-4b33-a0e2-a7723585df49",
   "metadata": {},
   "source": [
    "### RandomForest"
   ]
  },
  {
   "cell_type": "code",
   "execution_count": 186,
   "id": "30f7a088-29b4-42fc-9075-e4aa7dfe22ca",
   "metadata": {},
   "outputs": [
    {
     "name": "stdout",
     "output_type": "stream",
     "text": [
      "Качество модели: 0.8055987558320373 Лучшая глубина 7\n"
     ]
    }
   ],
   "source": [
    "best_model = None\n",
    "best_result = 0\n",
    "for est in range(1, 11):\n",
    "    model = RandomForestClassifier(random_state=12345, n_estimators= est, max_depth=depth) # обучите модель с заданным количеством деревьев\n",
    "    model.fit(features_train, target_train) # обучите модель на тренировочной выборке\n",
    "    result = model.score(features_valid, target_valid) # посчитайте качество модели на валидационной выборке\n",
    "    if result > best_result:\n",
    "        best_model = model# сохраните наилучшую модель\n",
    "        best_result = result#  сохраните наилучшее значение метрики accuracy на валидационных данных\n",
    "\n",
    "print(\"Качество модели:\", best_result, 'Лучшая глубина', best_depth)"
   ]
  },
  {
   "cell_type": "code",
   "execution_count": 68,
   "id": "5130a133-62b3-4a01-96e9-e76b1741c990",
   "metadata": {},
   "outputs": [
    {
     "name": "stdout",
     "output_type": "stream",
     "text": [
      "Качество модели: 0.8133748055987559 Лучшая глубина 1 Количество деревьев: 8 Лучшая модель: RandomForestClassifier(max_depth=9, n_estimators=8, random_state=12345)\n"
     ]
    }
   ],
   "source": [
    "best_model = None\n",
    "best_result = 0\n",
    "best_est = 0\n",
    "for est in range(1, 11):\n",
    "    for depth in range (1,11):\n",
    "        model = RandomForestClassifier(random_state=12345,criterion='gini', n_estimators= est, max_depth=depth) # обучите модель с заданным количеством деревьев\n",
    "        model.fit(features_train, target_train) # обучите модель на тренировочной выборке\n",
    "        result = model.score(features_valid, target_valid) # посчитайте качество модели на валидационной выборке\n",
    "        if result > best_result:\n",
    "            best_model = model# сохраните наилучшую модель\n",
    "            best_result = result#  сохраните наилучшее значение метрики accuracy на валидационных данных\n",
    "            best_est = est\n",
    "\n",
    "print(\"Качество модели:\", best_result, 'Лучшая глубина', best_depth, 'Количество деревьев:', best_est,'Лучшая модель:',best_model)"
   ]
  },
  {
   "cell_type": "markdown",
   "id": "fda8746d-8227-4b8d-a4b6-72179a8d4734",
   "metadata": {},
   "source": [
    "### LogisticRegression"
   ]
  },
  {
   "cell_type": "code",
   "execution_count": 188,
   "id": "ea2c780b-7d1d-4679-bb07-ed94d8cf9e78",
   "metadata": {
    "tags": []
   },
   "outputs": [
    {
     "name": "stdout",
     "output_type": "stream",
     "text": [
      "Качество модели 0.7131742738589212\n"
     ]
    }
   ],
   "source": [
    "model = LogisticRegression(random_state=12345, solver='lbfgs')# Напишите код здесь\n",
    "model.fit(features_train, target_train)\n",
    "predictions = model.predict(features_valid)\n",
    "result = model.score(features_train, target_train)\n",
    "print('Качество модели',result)"
   ]
  },
  {
   "cell_type": "markdown",
   "id": "2d907b2d-7b87-4437-a6ce-683a0b1b9fc5",
   "metadata": {},
   "source": [
    "### Best Model:\n",
    "1. RandomForest\n",
    "2. DecisionTree\n",
    "3. LogisticRegression"
   ]
  },
  {
   "cell_type": "markdown",
   "id": "d76cacaa-a532-4abd-9c45-0de8b6b26ede",
   "metadata": {},
   "source": [
    "### Check the Model Quality on the Test Dataset"
   ]
  },
  {
   "cell_type": "code",
   "execution_count": 15,
   "id": "bcff2199-835b-45d0-a112-eeaf2b3dbb43",
   "metadata": {
    "tags": []
   },
   "outputs": [
    {
     "name": "stdout",
     "output_type": "stream",
     "text": [
      "Качество модели на тестовых данных 0.7931570762052877\n"
     ]
    }
   ],
   "source": [
    "model = RandomForestClassifier(random_state=12345, n_estimators= 7, max_depth= 7) \n",
    "model.fit(features_train, target_train) \n",
    "result = model.score(features_test, target_test)\n",
    "print('Качество модели на тестовых данных',result)"
   ]
  },
  {
   "cell_type": "markdown",
   "id": "8e9ea850-5695-44cc-ad2d-b4bbf2348b13",
   "metadata": {},
   "source": [
    "### Check the Models for Adequacy\n",
    "\n",
    "From theory, it follows:\n",
    "A model is considered adequate if it corresponds to the available experimental data. This means that choosing a more complex model will not improve its predictive properties: the existing model is sufficient.\n",
    "\n",
    "Based on this, we can conclude that our model is exactly like that since it shows a quality of 0.8 on the test data. Let's import DummyClassifier."
   ]
  },
  {
   "cell_type": "code",
   "execution_count": 16,
   "id": "7d69bbb4-262f-4e8d-8b53-0f591b568028",
   "metadata": {
    "tags": []
   },
   "outputs": [
    {
     "data": {
      "text/html": [
       "<div>\n",
       "<style scoped>\n",
       "    .dataframe tbody tr th:only-of-type {\n",
       "        vertical-align: middle;\n",
       "    }\n",
       "\n",
       "    .dataframe tbody tr th {\n",
       "        vertical-align: top;\n",
       "    }\n",
       "\n",
       "    .dataframe thead th {\n",
       "        text-align: right;\n",
       "    }\n",
       "</style>\n",
       "<table border=\"1\" class=\"dataframe\">\n",
       "  <thead>\n",
       "    <tr style=\"text-align: right;\">\n",
       "      <th></th>\n",
       "      <th>most_frequent</th>\n",
       "    </tr>\n",
       "  </thead>\n",
       "  <tbody>\n",
       "    <tr>\n",
       "      <th>0</th>\n",
       "      <td>0.706065</td>\n",
       "    </tr>\n",
       "  </tbody>\n",
       "</table>\n",
       "</div>"
      ],
      "text/plain": [
       "   most_frequent\n",
       "0       0.706065"
      ]
     },
     "execution_count": 16,
     "metadata": {},
     "output_type": "execute_result"
    }
   ],
   "source": [
    "strategies = ['most_frequent']\n",
    "\n",
    "dummy_results = []\n",
    "\n",
    "for strategy in strategies:\n",
    "    dummy_classifire = DummyClassifier(strategy = strategy, random_state = 0)\n",
    "\n",
    "dummy_classifire.fit(features_train, target_train)\n",
    "\n",
    "result = dummy_classifire.score(features_test, target_test)\n",
    "\n",
    "dummy_results.append({strategy: result})\n",
    "\n",
    "pd.DataFrame(dummy_results)\n"
   ]
  },
  {
   "cell_type": "markdown",
   "id": "9de1f252-1b9a-4209-9146-eb034aff4b1c",
   "metadata": {},
   "source": [
    "### Conclusion: \n",
    "On the test data, the model performs better, confirming the adequacy of our model."
   ]
  },
  {
   "cell_type": "markdown",
   "id": "cc2030b2-e76f-407a-8d24-4c60c17a4cfa",
   "metadata": {},
   "source": [
    "### Final Project Conclusion:\n",
    "We examined three models (listed them in descending order of model accuracy):\n",
    "1. RandomForest\n",
    "2. DecisionTree\n",
    "3. LogisticRegression\n",
    "\n",
    "Additionally, we evaluated the model for adequacy and confirmed it. We conducted an assessment of the model on test data (the accuracy was slightly lower than on the validation data, which is normal)."
   ]
  },
  {
   "cell_type": "code",
   "execution_count": null,
   "id": "5c35fb71-62e2-4210-aa30-a447e771469a",
   "metadata": {},
   "outputs": [],
   "source": []
  }
 ],
 "metadata": {
  "kernelspec": {
   "display_name": "Python 3 (ipykernel)",
   "language": "python",
   "name": "python3"
  },
  "language_info": {
   "codemirror_mode": {
    "name": "ipython",
    "version": 3
   },
   "file_extension": ".py",
   "mimetype": "text/x-python",
   "name": "python",
   "nbconvert_exporter": "python",
   "pygments_lexer": "ipython3",
   "version": "3.11.4"
  }
 },
 "nbformat": 4,
 "nbformat_minor": 5
}
